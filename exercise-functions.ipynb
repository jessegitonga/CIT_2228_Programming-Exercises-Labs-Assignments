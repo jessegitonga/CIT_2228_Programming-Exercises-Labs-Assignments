{
 "cells": [
  {
   "cell_type": "markdown",
   "id": "131eb04d",
   "metadata": {
    "papermill": {
     "duration": 0.00599,
     "end_time": "2025-02-26T15:49:14.285499",
     "exception": false,
     "start_time": "2025-02-26T15:49:14.279509",
     "status": "completed"
    },
    "tags": []
   },
   "source": [
    "**This notebook is an exercise in the [Intro to Programming](https://www.kaggle.com/learn/intro-to-programming) course.  You can reference the tutorial at [this link](https://www.kaggle.com/alexisbcook/functions).**\n",
    "\n",
    "---\n"
   ]
  },
  {
   "cell_type": "markdown",
   "id": "9ef6e96f",
   "metadata": {
    "papermill": {
     "duration": 0.005014,
     "end_time": "2025-02-26T15:49:14.295837",
     "exception": false,
     "start_time": "2025-02-26T15:49:14.290823",
     "status": "completed"
    },
    "tags": []
   },
   "source": [
    "In the tutorial, you learned about functions. In this exercise, you'll write some of your own!\n",
    "\n",
    "# Set up the notebook\n",
    "\n",
    "Run the next code cell without changes to set up the notebook."
   ]
  },
  {
   "cell_type": "code",
   "execution_count": 1,
   "id": "d5b54433",
   "metadata": {
    "execution": {
     "iopub.execute_input": "2025-02-26T15:49:14.308067Z",
     "iopub.status.busy": "2025-02-26T15:49:14.307512Z",
     "iopub.status.idle": "2025-02-26T15:49:15.508346Z",
     "shell.execute_reply": "2025-02-26T15:49:15.506947Z"
    },
    "papermill": {
     "duration": 1.208889,
     "end_time": "2025-02-26T15:49:15.510206",
     "exception": false,
     "start_time": "2025-02-26T15:49:14.301317",
     "status": "completed"
    },
    "tags": []
   },
   "outputs": [
    {
     "name": "stdout",
     "output_type": "stream",
     "text": [
      "Setup complete.\n"
     ]
    }
   ],
   "source": [
    "# Set up the exercise\n",
    "import math\n",
    "from learntools.core import binder\n",
    "binder.bind(globals())\n",
    "from learntools.intro_to_programming.ex2 import *\n",
    "print('Setup complete.')"
   ]
  },
  {
   "cell_type": "markdown",
   "id": "95d1595f",
   "metadata": {
    "papermill": {
     "duration": 0.004764,
     "end_time": "2025-02-26T15:49:15.520139",
     "exception": false,
     "start_time": "2025-02-26T15:49:15.515375",
     "status": "completed"
    },
    "tags": []
   },
   "source": [
    "# Question 1\n",
    "\n",
    "In the [House Prices - Advanced Regression Techniques competition](https://www.kaggle.com/c/house-prices-advanced-regression-techniques/overview), you need to use information like the number of bedrooms and bathrooms to predict the price of a house.  Inspired by this competition, you'll write your own function to do this.\n",
    "\n",
    "In the next code cell, create a function `get_expected_cost()` that has two arguments:\n",
    "- `beds` - number of bedrooms \n",
    "- `baths` - number of bathrooms\n",
    "\n",
    "It should return the expected cost of a house with that number of bedrooms and bathrooms.  Assume that:\n",
    "- the expected cost for a house with 0 bedrooms and 0 bathrooms is `80000`.  \n",
    "- each bedroom adds `30000` to the expected cost\n",
    "- each bathroom adds `10000` to the expected cost.\n",
    "\n",
    "For instance, \n",
    "- a house with 1 bedroom and 1 bathroom has an expected cost of `120000`, and \n",
    "- a house with 2 bedrooms and 1 bathroom has an expected cost of `150000`."
   ]
  },
  {
   "cell_type": "code",
   "execution_count": 2,
   "id": "9a33343a",
   "metadata": {
    "execution": {
     "iopub.execute_input": "2025-02-26T15:49:15.532649Z",
     "iopub.status.busy": "2025-02-26T15:49:15.532157Z",
     "iopub.status.idle": "2025-02-26T15:49:15.541223Z",
     "shell.execute_reply": "2025-02-26T15:49:15.540283Z"
    },
    "papermill": {
     "duration": 0.01702,
     "end_time": "2025-02-26T15:49:15.542922",
     "exception": false,
     "start_time": "2025-02-26T15:49:15.525902",
     "status": "completed"
    },
    "tags": []
   },
   "outputs": [
    {
     "data": {
      "application/javascript": [
       "parent.postMessage({\"jupyterEvent\": \"custom.exercise_interaction\", \"data\": {\"outcomeType\": 1, \"valueTowardsCompletion\": 0.2, \"interactionType\": 1, \"questionType\": 2, \"questionId\": \"1_GetExpectedCost\", \"learnToolsVersion\": \"0.3.4\", \"failureMessage\": \"\", \"exceptionClass\": \"\", \"trace\": \"\"}}, \"*\")"
      ],
      "text/plain": [
       "<IPython.core.display.Javascript object>"
      ]
     },
     "metadata": {},
     "output_type": "display_data"
    },
    {
     "data": {
      "text/markdown": [
       "<span style=\"color:#33cc33\">Correct</span>"
      ],
      "text/plain": [
       "Correct"
      ]
     },
     "metadata": {},
     "output_type": "display_data"
    }
   ],
   "source": [
    "# TODO: Complete the function\n",
    "def get_expected_cost(beds, baths):\n",
    "    value = 80000 + 30000 * beds + 10000 * baths\n",
    "    return value\n",
    "\n",
    "# Check your answer \n",
    "q1.check()"
   ]
  },
  {
   "cell_type": "code",
   "execution_count": 3,
   "id": "d944218c",
   "metadata": {
    "execution": {
     "iopub.execute_input": "2025-02-26T15:49:15.554678Z",
     "iopub.status.busy": "2025-02-26T15:49:15.554338Z",
     "iopub.status.idle": "2025-02-26T15:49:15.561903Z",
     "shell.execute_reply": "2025-02-26T15:49:15.561026Z"
    },
    "papermill": {
     "duration": 0.015427,
     "end_time": "2025-02-26T15:49:15.563647",
     "exception": false,
     "start_time": "2025-02-26T15:49:15.548220",
     "status": "completed"
    },
    "tags": []
   },
   "outputs": [
    {
     "data": {
      "application/javascript": [
       "parent.postMessage({\"jupyterEvent\": \"custom.exercise_interaction\", \"data\": {\"interactionType\": 2, \"questionType\": 2, \"questionId\": \"1_GetExpectedCost\", \"learnToolsVersion\": \"0.3.4\", \"valueTowardsCompletion\": 0.0, \"failureMessage\": \"\", \"exceptionClass\": \"\", \"trace\": \"\", \"outcomeType\": 4}}, \"*\")"
      ],
      "text/plain": [
       "<IPython.core.display.Javascript object>"
      ]
     },
     "metadata": {},
     "output_type": "display_data"
    },
    {
     "data": {
      "text/markdown": [
       "<span style=\"color:#3366cc\">Hint:</span> The value should be the base cost (`80000`), plus the total cost of the bedrooms (`30000 * beds`), plus the total cost of the bathrooms (`10000 * baths`)."
      ],
      "text/plain": [
       "Hint: The value should be the base cost (`80000`), plus the total cost of the bedrooms (`30000 * beds`), plus the total cost of the bathrooms (`10000 * baths`)."
      ]
     },
     "metadata": {},
     "output_type": "display_data"
    }
   ],
   "source": [
    "# Uncomment to see a hint\n",
    "q1.hint()\n",
    "\n",
    "# Uncomment to view the solution\n",
    "#q1.solution()"
   ]
  },
  {
   "cell_type": "markdown",
   "id": "47a44ba9",
   "metadata": {
    "papermill": {
     "duration": 0.005142,
     "end_time": "2025-02-26T15:49:15.574531",
     "exception": false,
     "start_time": "2025-02-26T15:49:15.569389",
     "status": "completed"
    },
    "tags": []
   },
   "source": [
    "# Question 2\n",
    "\n",
    "You are thinking about buying a home and want to get an idea of how much you will spend, based on the number of bedrooms and bathrooms.  You are trying to decide between four different options:\n",
    "- Option 1: house with two bedrooms and three bathrooms\n",
    "- Option 2: house with three bedrooms and two bathrooms\n",
    "- Option 3: house with three bedrooms and three bathrooms\n",
    "- Option 4: house with three bedrooms and four bathrooms\n",
    "\n",
    "Use the `get_expected_cost()` function you defined in question 1 to set `option_1`, `option_2`, `option_3`, and `option_4` to the expected cost of each option."
   ]
  },
  {
   "cell_type": "code",
   "execution_count": 4,
   "id": "0cbd04c1",
   "metadata": {
    "execution": {
     "iopub.execute_input": "2025-02-26T15:49:15.586379Z",
     "iopub.status.busy": "2025-02-26T15:49:15.585996Z",
     "iopub.status.idle": "2025-02-26T15:49:15.595714Z",
     "shell.execute_reply": "2025-02-26T15:49:15.594809Z"
    },
    "papermill": {
     "duration": 0.017552,
     "end_time": "2025-02-26T15:49:15.597349",
     "exception": false,
     "start_time": "2025-02-26T15:49:15.579797",
     "status": "completed"
    },
    "tags": []
   },
   "outputs": [
    {
     "name": "stdout",
     "output_type": "stream",
     "text": [
      "170000\n",
      "190000\n",
      "200000\n",
      "210000\n"
     ]
    },
    {
     "data": {
      "application/javascript": [
       "parent.postMessage({\"jupyterEvent\": \"custom.exercise_interaction\", \"data\": {\"outcomeType\": 1, \"valueTowardsCompletion\": 0.2, \"interactionType\": 1, \"questionType\": 1, \"questionId\": \"2_RunGetExpectedCost\", \"learnToolsVersion\": \"0.3.4\", \"failureMessage\": \"\", \"exceptionClass\": \"\", \"trace\": \"\"}}, \"*\")"
      ],
      "text/plain": [
       "<IPython.core.display.Javascript object>"
      ]
     },
     "metadata": {},
     "output_type": "display_data"
    },
    {
     "data": {
      "text/markdown": [
       "<span style=\"color:#33cc33\">Correct</span>"
      ],
      "text/plain": [
       "Correct"
      ]
     },
     "metadata": {},
     "output_type": "display_data"
    }
   ],
   "source": [
    "# TODO: Use the get_expected_cost function to fill in each value\n",
    "option_one = get_expected_cost(2,3)\n",
    "option_two = get_expected_cost(3,2)\n",
    "option_three = get_expected_cost(3,3)\n",
    "option_four = get_expected_cost(3,4)\n",
    "\n",
    "print(option_one)\n",
    "print(option_two)\n",
    "print(option_three)\n",
    "print(option_four)\n",
    "\n",
    "# Check your answer\n",
    "q2.check()"
   ]
  },
  {
   "cell_type": "code",
   "execution_count": 5,
   "id": "8e902b3e",
   "metadata": {
    "execution": {
     "iopub.execute_input": "2025-02-26T15:49:15.610722Z",
     "iopub.status.busy": "2025-02-26T15:49:15.610371Z",
     "iopub.status.idle": "2025-02-26T15:49:15.614331Z",
     "shell.execute_reply": "2025-02-26T15:49:15.613213Z"
    },
    "papermill": {
     "duration": 0.012746,
     "end_time": "2025-02-26T15:49:15.616049",
     "exception": false,
     "start_time": "2025-02-26T15:49:15.603303",
     "status": "completed"
    },
    "tags": []
   },
   "outputs": [],
   "source": [
    "# Uncomment to see a hint\n",
    "#q2.hint()\n",
    "\n",
    "# Uncomment to view the solution\n",
    "#q2.solution()"
   ]
  },
  {
   "cell_type": "markdown",
   "id": "79900e4b",
   "metadata": {
    "papermill": {
     "duration": 0.00542,
     "end_time": "2025-02-26T15:49:15.627518",
     "exception": false,
     "start_time": "2025-02-26T15:49:15.622098",
     "status": "completed"
    },
    "tags": []
   },
   "source": [
    "# Question 3\n",
    "\n",
    "You're a home decorator, and you'd like to use Python to streamline some of your work.  Specifically, you're creating a tool that you intend to use to calculate the cost of painting a room.\n",
    "\n",
    "As a first step, define a function `get_cost()` that takes as input:\n",
    "- `sqft_walls` = total square feet of walls to be painted\n",
    "- `sqft_ceiling` = square feet of ceiling to be painted\n",
    "- `sqft_per_gallon` = number of square feet that you can cover with one gallon of paint\n",
    "- `cost_per_gallon` = cost (in dollars) of one gallon of paint\n",
    "\n",
    "It should return the cost (in dollars) of putting one coat of paint on all walls and the ceiling.  Assume you can buy the exact amount of paint that you need, so you can buy partial gallons (e.g., if you need 7.523 gallons, you can buy that exact amount, instead of needing to buy 8 gallons and waste some paint).  Do not round your answer."
   ]
  },
  {
   "cell_type": "code",
   "execution_count": 6,
   "id": "791835f3",
   "metadata": {
    "execution": {
     "iopub.execute_input": "2025-02-26T15:49:15.640421Z",
     "iopub.status.busy": "2025-02-26T15:49:15.640067Z",
     "iopub.status.idle": "2025-02-26T15:49:15.647984Z",
     "shell.execute_reply": "2025-02-26T15:49:15.647004Z"
    },
    "papermill": {
     "duration": 0.016295,
     "end_time": "2025-02-26T15:49:15.649602",
     "exception": false,
     "start_time": "2025-02-26T15:49:15.633307",
     "status": "completed"
    },
    "tags": []
   },
   "outputs": [
    {
     "data": {
      "application/javascript": [
       "parent.postMessage({\"jupyterEvent\": \"custom.exercise_interaction\", \"data\": {\"outcomeType\": 1, \"valueTowardsCompletion\": 0.2, \"interactionType\": 1, \"questionType\": 2, \"questionId\": \"3_GetCostPaint\", \"learnToolsVersion\": \"0.3.4\", \"failureMessage\": \"\", \"exceptionClass\": \"\", \"trace\": \"\"}}, \"*\")"
      ],
      "text/plain": [
       "<IPython.core.display.Javascript object>"
      ]
     },
     "metadata": {},
     "output_type": "display_data"
    },
    {
     "data": {
      "text/markdown": [
       "<span style=\"color:#33cc33\">Correct</span>"
      ],
      "text/plain": [
       "Correct"
      ]
     },
     "metadata": {},
     "output_type": "display_data"
    }
   ],
   "source": [
    "# TODO: Finish defining the function\n",
    "def get_cost(sqft_walls, sqft_ceiling, sqft_per_gallon, cost_per_gallon):\n",
    "    total_sqft = sqft_walls + sqft_ceiling\n",
    "    gallons_needed = total_sqft / sqft_per_gallon\n",
    "    cost = cost_per_gallon * gallons_needed\n",
    "    return cost\n",
    "\n",
    "# Check your answer\n",
    "q3.check()"
   ]
  },
  {
   "cell_type": "code",
   "execution_count": 7,
   "id": "f8447dd5",
   "metadata": {
    "execution": {
     "iopub.execute_input": "2025-02-26T15:49:15.662839Z",
     "iopub.status.busy": "2025-02-26T15:49:15.662523Z",
     "iopub.status.idle": "2025-02-26T15:49:15.670166Z",
     "shell.execute_reply": "2025-02-26T15:49:15.669071Z"
    },
    "papermill": {
     "duration": 0.016325,
     "end_time": "2025-02-26T15:49:15.671966",
     "exception": false,
     "start_time": "2025-02-26T15:49:15.655641",
     "status": "completed"
    },
    "tags": []
   },
   "outputs": [
    {
     "data": {
      "application/javascript": [
       "parent.postMessage({\"jupyterEvent\": \"custom.exercise_interaction\", \"data\": {\"interactionType\": 2, \"questionType\": 2, \"questionId\": \"3_GetCostPaint\", \"learnToolsVersion\": \"0.3.4\", \"valueTowardsCompletion\": 0.0, \"failureMessage\": \"\", \"exceptionClass\": \"\", \"trace\": \"\", \"outcomeType\": 4}}, \"*\")"
      ],
      "text/plain": [
       "<IPython.core.display.Javascript object>"
      ]
     },
     "metadata": {},
     "output_type": "display_data"
    },
    {
     "data": {
      "text/markdown": [
       "<span style=\"color:#3366cc\">Hint:</span> Begin by calculating the total number of square feet that need to be painted. Then, based on that, figure out how many gallons you need.  Then, once you know how many gallons you need, you can calculate the total cost of the project."
      ],
      "text/plain": [
       "Hint: Begin by calculating the total number of square feet that need to be painted. Then, based on that, figure out how many gallons you need.  Then, once you know how many gallons you need, you can calculate the total cost of the project."
      ]
     },
     "metadata": {},
     "output_type": "display_data"
    }
   ],
   "source": [
    "# Uncomment to see a hint\n",
    "q3.hint()\n",
    "\n",
    "# Uncomment to view the solution\n",
    "#q3.solution()"
   ]
  },
  {
   "cell_type": "markdown",
   "id": "aa3ae571",
   "metadata": {
    "papermill": {
     "duration": 0.005895,
     "end_time": "2025-02-26T15:49:15.684143",
     "exception": false,
     "start_time": "2025-02-26T15:49:15.678248",
     "status": "completed"
    },
    "tags": []
   },
   "source": [
    "# Question 4\n",
    "\n",
    "Use the `get_cost()` function you defined in Question 3 to calculate the cost of applying one coat of paint to a room with:\n",
    "- 432 square feet of walls, and\n",
    "- 144 square feet of ceiling.\n",
    "\n",
    "Assume that one gallon of paint covers 400 square feet and costs $15.  As in Question 3, assume you can buy partial gallons of paint.  Do not round your answer."
   ]
  },
  {
   "cell_type": "code",
   "execution_count": 8,
   "id": "a80e8b56",
   "metadata": {
    "execution": {
     "iopub.execute_input": "2025-02-26T15:49:15.697696Z",
     "iopub.status.busy": "2025-02-26T15:49:15.697311Z",
     "iopub.status.idle": "2025-02-26T15:49:15.705125Z",
     "shell.execute_reply": "2025-02-26T15:49:15.704032Z"
    },
    "papermill": {
     "duration": 0.016552,
     "end_time": "2025-02-26T15:49:15.706781",
     "exception": false,
     "start_time": "2025-02-26T15:49:15.690229",
     "status": "completed"
    },
    "tags": []
   },
   "outputs": [
    {
     "data": {
      "application/javascript": [
       "parent.postMessage({\"jupyterEvent\": \"custom.exercise_interaction\", \"data\": {\"outcomeType\": 1, \"valueTowardsCompletion\": 0.2, \"interactionType\": 1, \"questionType\": 1, \"questionId\": \"4_GetCostPaintExample\", \"learnToolsVersion\": \"0.3.4\", \"failureMessage\": \"\", \"exceptionClass\": \"\", \"trace\": \"\"}}, \"*\")"
      ],
      "text/plain": [
       "<IPython.core.display.Javascript object>"
      ]
     },
     "metadata": {},
     "output_type": "display_data"
    },
    {
     "data": {
      "text/markdown": [
       "<span style=\"color:#33cc33\">Correct</span>"
      ],
      "text/plain": [
       "Correct"
      ]
     },
     "metadata": {},
     "output_type": "display_data"
    }
   ],
   "source": [
    "# TODO: Set the project_cost variable to the cost of the project\n",
    "project_cost = get_cost(432, 144, 400, 15)\n",
    "\n",
    "# Check your answer\n",
    "q4.check()"
   ]
  },
  {
   "cell_type": "code",
   "execution_count": 9,
   "id": "1ed0a503",
   "metadata": {
    "execution": {
     "iopub.execute_input": "2025-02-26T15:49:15.721774Z",
     "iopub.status.busy": "2025-02-26T15:49:15.721413Z",
     "iopub.status.idle": "2025-02-26T15:49:15.725403Z",
     "shell.execute_reply": "2025-02-26T15:49:15.724303Z"
    },
    "papermill": {
     "duration": 0.013674,
     "end_time": "2025-02-26T15:49:15.727085",
     "exception": false,
     "start_time": "2025-02-26T15:49:15.713411",
     "status": "completed"
    },
    "tags": []
   },
   "outputs": [],
   "source": [
    "# Uncomment to see a hint\n",
    "#q4.hint()\n",
    "\n",
    "# Uncomment to view the solution\n",
    "#q4.solution()"
   ]
  },
  {
   "cell_type": "markdown",
   "id": "033c1d00",
   "metadata": {
    "papermill": {
     "duration": 0.005951,
     "end_time": "2025-02-26T15:49:15.739459",
     "exception": false,
     "start_time": "2025-02-26T15:49:15.733508",
     "status": "completed"
    },
    "tags": []
   },
   "source": [
    "# 🌶️ Question 5\n",
    "\n",
    "Now say you can no longer buy fractions of a gallon.  (For instance, if you need 4.3 gallons to do a project, then you have to buy 5 gallons of paint.)\n",
    "\n",
    "With this new scenario, you will create a new function `get_actual_cost` that uses the same inputs and calculates the cost of your project.\n",
    "\n",
    "One function that you'll need to use to do this is `math.ceil()`.  We demonstrate usage of this function in the code cell below.  It takes as a number as input and rounds the number up to the nearest integer.  \n",
    "\n",
    "Run the next code cell to test this function for yourself.  Feel free to change the value of `test_value` and make sure `math.ceil()` returns the number you expect."
   ]
  },
  {
   "cell_type": "code",
   "execution_count": 10,
   "id": "9e4030c2",
   "metadata": {
    "execution": {
     "iopub.execute_input": "2025-02-26T15:49:15.753512Z",
     "iopub.status.busy": "2025-02-26T15:49:15.753133Z",
     "iopub.status.idle": "2025-02-26T15:49:15.758577Z",
     "shell.execute_reply": "2025-02-26T15:49:15.757315Z"
    },
    "papermill": {
     "duration": 0.014482,
     "end_time": "2025-02-26T15:49:15.760269",
     "exception": false,
     "start_time": "2025-02-26T15:49:15.745787",
     "status": "completed"
    },
    "tags": []
   },
   "outputs": [
    {
     "name": "stdout",
     "output_type": "stream",
     "text": [
      "3\n"
     ]
    }
   ],
   "source": [
    "test_value = 2.17\n",
    "\n",
    "rounded_value = math.ceil(test_value)\n",
    "print(rounded_value)"
   ]
  },
  {
   "cell_type": "markdown",
   "id": "d29f4f87",
   "metadata": {
    "papermill": {
     "duration": 0.006161,
     "end_time": "2025-02-26T15:49:15.773084",
     "exception": false,
     "start_time": "2025-02-26T15:49:15.766923",
     "status": "completed"
    },
    "tags": []
   },
   "source": [
    "Use the next code cell to define the function `get_actual_cost()`.  You'll need to use the `math.ceil()` function to do this.\n",
    "\n",
    "When answering this question, note that it's completely valid to define a function that makes use of another function.  For instance, we can define a function `round_up_and_divide_by_three` that makes use of the `math.ceil` function:\n",
    "```\n",
    "def round_up_and_divide_by_three(num):\n",
    "    new_value = math.ceil(num)\n",
    "    final_value = new_value / 3\n",
    "    return final_value\n",
    "```"
   ]
  },
  {
   "cell_type": "code",
   "execution_count": 11,
   "id": "9de74ad1",
   "metadata": {
    "execution": {
     "iopub.execute_input": "2025-02-26T15:49:15.787491Z",
     "iopub.status.busy": "2025-02-26T15:49:15.787147Z",
     "iopub.status.idle": "2025-02-26T15:49:15.795749Z",
     "shell.execute_reply": "2025-02-26T15:49:15.794664Z"
    },
    "papermill": {
     "duration": 0.018121,
     "end_time": "2025-02-26T15:49:15.797495",
     "exception": false,
     "start_time": "2025-02-26T15:49:15.779374",
     "status": "completed"
    },
    "tags": []
   },
   "outputs": [
    {
     "data": {
      "application/javascript": [
       "parent.postMessage({\"jupyterEvent\": \"custom.exercise_interaction\", \"data\": {\"outcomeType\": 1, \"valueTowardsCompletion\": 0.2, \"interactionType\": 1, \"questionType\": 2, \"questionId\": \"5_NoMoreFractions\", \"learnToolsVersion\": \"0.3.4\", \"failureMessage\": \"\", \"exceptionClass\": \"\", \"trace\": \"\"}}, \"*\")"
      ],
      "text/plain": [
       "<IPython.core.display.Javascript object>"
      ]
     },
     "metadata": {},
     "output_type": "display_data"
    },
    {
     "data": {
      "text/markdown": [
       "<span style=\"color:#33cc33\">Correct</span>"
      ],
      "text/plain": [
       "Correct"
      ]
     },
     "metadata": {},
     "output_type": "display_data"
    }
   ],
   "source": [
    "def get_actual_cost(sqft_walls, sqft_ceiling, sqft_per_gallon, cost_per_gallon):\n",
    "    total_sqft = sqft_walls + sqft_ceiling\n",
    "    gallons_needed = total_sqft / sqft_per_gallon\n",
    "    gallons_to_buy = math.ceil(gallons_needed)\n",
    "    cost = cost_per_gallon * gallons_to_buy\n",
    "    return cost\n",
    "\n",
    "# Check your answer\n",
    "q5.check()"
   ]
  },
  {
   "cell_type": "code",
   "execution_count": 12,
   "id": "687396e6",
   "metadata": {
    "execution": {
     "iopub.execute_input": "2025-02-26T15:49:15.812403Z",
     "iopub.status.busy": "2025-02-26T15:49:15.812048Z",
     "iopub.status.idle": "2025-02-26T15:49:15.816404Z",
     "shell.execute_reply": "2025-02-26T15:49:15.815266Z"
    },
    "papermill": {
     "duration": 0.014309,
     "end_time": "2025-02-26T15:49:15.818467",
     "exception": false,
     "start_time": "2025-02-26T15:49:15.804158",
     "status": "completed"
    },
    "tags": []
   },
   "outputs": [],
   "source": [
    "# Uncomment to see a hint\n",
    "#q5.hint()\n",
    "\n",
    "# Uncomment to view the solution\n",
    "#q5.solution()"
   ]
  },
  {
   "cell_type": "markdown",
   "id": "6ca37e2e",
   "metadata": {
    "papermill": {
     "duration": 0.006398,
     "end_time": "2025-02-26T15:49:15.831654",
     "exception": false,
     "start_time": "2025-02-26T15:49:15.825256",
     "status": "completed"
    },
    "tags": []
   },
   "source": [
    "Once your function is verified as correct, run the next code cell to calculate the updated cost of your project."
   ]
  },
  {
   "cell_type": "code",
   "execution_count": 13,
   "id": "fbeb1516",
   "metadata": {
    "execution": {
     "iopub.execute_input": "2025-02-26T15:49:15.846355Z",
     "iopub.status.busy": "2025-02-26T15:49:15.845868Z",
     "iopub.status.idle": "2025-02-26T15:49:15.851999Z",
     "shell.execute_reply": "2025-02-26T15:49:15.850981Z"
    },
    "papermill": {
     "duration": 0.01523,
     "end_time": "2025-02-26T15:49:15.853736",
     "exception": false,
     "start_time": "2025-02-26T15:49:15.838506",
     "status": "completed"
    },
    "tags": []
   },
   "outputs": [
    {
     "data": {
      "text/plain": [
       "30"
      ]
     },
     "execution_count": 13,
     "metadata": {},
     "output_type": "execute_result"
    }
   ],
   "source": [
    "get_actual_cost(432, 144, 400, 15) "
   ]
  },
  {
   "cell_type": "markdown",
   "id": "4b3ab172",
   "metadata": {
    "papermill": {
     "duration": 0.00641,
     "end_time": "2025-02-26T15:49:15.867062",
     "exception": false,
     "start_time": "2025-02-26T15:49:15.860652",
     "status": "completed"
    },
    "tags": []
   },
   "source": [
    "Say you're working with a slightly larger room.  Run the next code cell to calculate the cost of the project."
   ]
  },
  {
   "cell_type": "code",
   "execution_count": 14,
   "id": "4ec32fbb",
   "metadata": {
    "execution": {
     "iopub.execute_input": "2025-02-26T15:49:15.882171Z",
     "iopub.status.busy": "2025-02-26T15:49:15.881775Z",
     "iopub.status.idle": "2025-02-26T15:49:15.888379Z",
     "shell.execute_reply": "2025-02-26T15:49:15.887287Z"
    },
    "papermill": {
     "duration": 0.016163,
     "end_time": "2025-02-26T15:49:15.890288",
     "exception": false,
     "start_time": "2025-02-26T15:49:15.874125",
     "status": "completed"
    },
    "tags": []
   },
   "outputs": [
    {
     "data": {
      "text/plain": [
       "45"
      ]
     },
     "execution_count": 14,
     "metadata": {},
     "output_type": "execute_result"
    }
   ],
   "source": [
    "get_actual_cost(594, 288, 400, 15) "
   ]
  },
  {
   "cell_type": "markdown",
   "id": "3c16b785",
   "metadata": {
    "papermill": {
     "duration": 0.006353,
     "end_time": "2025-02-26T15:49:15.903470",
     "exception": false,
     "start_time": "2025-02-26T15:49:15.897117",
     "status": "completed"
    },
    "tags": []
   },
   "source": [
    "# Keep going\n",
    "\n",
    "Continue to learn about **[data types](https://www.kaggle.com/alexisbcook/data-types)**."
   ]
  },
  {
   "cell_type": "markdown",
   "id": "bb6c0ced",
   "metadata": {
    "papermill": {
     "duration": 0.006348,
     "end_time": "2025-02-26T15:49:15.916661",
     "exception": false,
     "start_time": "2025-02-26T15:49:15.910313",
     "status": "completed"
    },
    "tags": []
   },
   "source": [
    "---\n",
    "\n",
    "\n",
    "\n",
    "\n",
    "*Have questions or comments? Visit the [course discussion forum](https://www.kaggle.com/learn/intro-to-programming/discussion) to chat with other learners.*"
   ]
  }
 ],
 "metadata": {
  "kaggle": {
   "accelerator": "none",
   "dataSources": [],
   "isGpuEnabled": false,
   "isInternetEnabled": false,
   "language": "python",
   "sourceType": "notebook"
  },
  "kernelspec": {
   "display_name": "Python 3",
   "language": "python",
   "name": "python3"
  },
  "language_info": {
   "codemirror_mode": {
    "name": "ipython",
    "version": 3
   },
   "file_extension": ".py",
   "mimetype": "text/x-python",
   "name": "python",
   "nbconvert_exporter": "python",
   "pygments_lexer": "ipython3",
   "version": "3.10.12"
  },
  "papermill": {
   "default_parameters": {},
   "duration": 5.292464,
   "end_time": "2025-02-26T15:49:16.543805",
   "environment_variables": {},
   "exception": null,
   "input_path": "__notebook__.ipynb",
   "output_path": "__notebook__.ipynb",
   "parameters": {},
   "start_time": "2025-02-26T15:49:11.251341",
   "version": "2.6.0"
  }
 },
 "nbformat": 4,
 "nbformat_minor": 5
}
