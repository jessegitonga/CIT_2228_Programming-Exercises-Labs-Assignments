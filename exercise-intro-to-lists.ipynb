{
 "cells": [
  {
   "cell_type": "markdown",
   "id": "30c9cf60",
   "metadata": {
    "papermill": {
     "duration": 0.005956,
     "end_time": "2025-02-26T15:36:58.976845",
     "exception": false,
     "start_time": "2025-02-26T15:36:58.970889",
     "status": "completed"
    },
    "tags": []
   },
   "source": [
    "**This notebook is an exercise in the [Intro to Programming](https://www.kaggle.com/learn/intro-to-programming) course.  You can reference the tutorial at [this link](https://www.kaggle.com/alexisbcook/intro-to-lists).**\n",
    "\n",
    "---\n"
   ]
  },
  {
   "cell_type": "markdown",
   "id": "39dcec60",
   "metadata": {
    "papermill": {
     "duration": 0.004891,
     "end_time": "2025-02-26T15:36:58.987579",
     "exception": false,
     "start_time": "2025-02-26T15:36:58.982688",
     "status": "completed"
    },
    "tags": []
   },
   "source": [
    "In the tutorial, you learned how to define and modify Python lists.  In this exercise, you will use your new knowledge to solve several problems.\n",
    "\n",
    "# Set up the notebook\n",
    "\n",
    "Run the next code cell without changes to set up the notebook."
   ]
  },
  {
   "cell_type": "code",
   "execution_count": 1,
   "id": "bd28369b",
   "metadata": {
    "execution": {
     "iopub.execute_input": "2025-02-26T15:36:58.999166Z",
     "iopub.status.busy": "2025-02-26T15:36:58.998751Z",
     "iopub.status.idle": "2025-02-26T15:37:00.021636Z",
     "shell.execute_reply": "2025-02-26T15:37:00.019948Z"
    },
    "papermill": {
     "duration": 1.030976,
     "end_time": "2025-02-26T15:37:00.023586",
     "exception": false,
     "start_time": "2025-02-26T15:36:58.992610",
     "status": "completed"
    },
    "tags": []
   },
   "outputs": [
    {
     "name": "stdout",
     "output_type": "stream",
     "text": [
      "Setup complete.\n"
     ]
    }
   ],
   "source": [
    "from learntools.core import binder\n",
    "binder.bind(globals())\n",
    "from learntools.intro_to_programming.ex5 import *\n",
    "print('Setup complete.')"
   ]
  },
  {
   "cell_type": "markdown",
   "id": "5eb032fa",
   "metadata": {
    "papermill": {
     "duration": 0.004959,
     "end_time": "2025-02-26T15:37:00.033998",
     "exception": false,
     "start_time": "2025-02-26T15:37:00.029039",
     "status": "completed"
    },
    "tags": []
   },
   "source": [
    "# Question 1\n",
    "\n",
    "You own a restaurant with five food dishes, organized in the Python list `menu` below.  One day, you decide to:\n",
    "- remove bean soup (`'bean soup'`) from the menu, and\n",
    "- add roasted beet salad (`'roasted beet salad'`) to the menu.\n",
    "\n",
    "Implement this change to the list below.  While completing this task, \n",
    "- do not change the line that creates the `menu` list.  \n",
    "- your answer should use `.remove()` and `.append()`.  "
   ]
  },
  {
   "cell_type": "code",
   "execution_count": 2,
   "id": "cc5a496e",
   "metadata": {
    "execution": {
     "iopub.execute_input": "2025-02-26T15:37:00.046798Z",
     "iopub.status.busy": "2025-02-26T15:37:00.046337Z",
     "iopub.status.idle": "2025-02-26T15:37:00.055263Z",
     "shell.execute_reply": "2025-02-26T15:37:00.054361Z"
    },
    "papermill": {
     "duration": 0.017302,
     "end_time": "2025-02-26T15:37:00.056845",
     "exception": false,
     "start_time": "2025-02-26T15:37:00.039543",
     "status": "completed"
    },
    "tags": []
   },
   "outputs": [
    {
     "data": {
      "application/javascript": [
       "parent.postMessage({\"jupyterEvent\": \"custom.exercise_interaction\", \"data\": {\"outcomeType\": 1, \"valueTowardsCompletion\": 0.2, \"interactionType\": 1, \"questionType\": 2, \"questionId\": \"1_FoodMenu\", \"learnToolsVersion\": \"0.3.4\", \"failureMessage\": \"\", \"exceptionClass\": \"\", \"trace\": \"\"}}, \"*\")"
      ],
      "text/plain": [
       "<IPython.core.display.Javascript object>"
      ]
     },
     "metadata": {},
     "output_type": "display_data"
    },
    {
     "data": {
      "text/markdown": [
       "<span style=\"color:#33cc33\">Correct</span>"
      ],
      "text/plain": [
       "Correct"
      ]
     },
     "metadata": {},
     "output_type": "display_data"
    }
   ],
   "source": [
    "# Do not change: Initial menu for your restaurant\n",
    "menu = ['stewed meat with onions', 'bean soup', 'risotto with trout and shrimp',\n",
    "       'fish soup with cream and onion', 'gyro']\n",
    "\n",
    "# TODO: remove 'bean soup', and add 'roasted beet salad' to the end of the menu\n",
    "menu.remove('bean soup')\n",
    "menu.append('roasted beet salad')\n",
    "\n",
    "# Do not change: Check your answer\n",
    "q1.check()"
   ]
  },
  {
   "cell_type": "code",
   "execution_count": 3,
   "id": "ca73f0d5",
   "metadata": {
    "execution": {
     "iopub.execute_input": "2025-02-26T15:37:00.069179Z",
     "iopub.status.busy": "2025-02-26T15:37:00.068775Z",
     "iopub.status.idle": "2025-02-26T15:37:00.072874Z",
     "shell.execute_reply": "2025-02-26T15:37:00.071796Z"
    },
    "papermill": {
     "duration": 0.012171,
     "end_time": "2025-02-26T15:37:00.074611",
     "exception": false,
     "start_time": "2025-02-26T15:37:00.062440",
     "status": "completed"
    },
    "tags": []
   },
   "outputs": [],
   "source": [
    "# Uncomment to see a hint\n",
    "#q1.hint()\n",
    "\n",
    "# Uncomment to see the solution\n",
    "#q1.solution()"
   ]
  },
  {
   "cell_type": "markdown",
   "id": "a9a4a74f",
   "metadata": {
    "papermill": {
     "duration": 0.005153,
     "end_time": "2025-02-26T15:37:00.085494",
     "exception": false,
     "start_time": "2025-02-26T15:37:00.080341",
     "status": "completed"
    },
    "tags": []
   },
   "source": [
    "# Question 2\n",
    "\n",
    "The list `num_customers` contains the number of customers who came into your restaurant every day over the last month (which lasted thirty days).  Fill in values for each of the following:\n",
    "- `avg_first_seven` - average number of customers who visited in the first seven days\n",
    "- `avg_last_seven` - average number of customers who visited in the last seven days\n",
    "- `max_month` - number of customers on the day that got the most customers in the last month\n",
    "- `min_month` - number of customers on the day that got the least customers in the last month\n",
    "\n",
    "Answer this question by writing code.  For instance, if you have to find the minimum value in a list, use `min()` instead of scanning for the smallest value and directly filling in a number."
   ]
  },
  {
   "cell_type": "code",
   "execution_count": 4,
   "id": "c451d8e5",
   "metadata": {
    "execution": {
     "iopub.execute_input": "2025-02-26T15:37:00.097608Z",
     "iopub.status.busy": "2025-02-26T15:37:00.097225Z",
     "iopub.status.idle": "2025-02-26T15:37:00.105763Z",
     "shell.execute_reply": "2025-02-26T15:37:00.104682Z"
    },
    "papermill": {
     "duration": 0.016517,
     "end_time": "2025-02-26T15:37:00.107376",
     "exception": false,
     "start_time": "2025-02-26T15:37:00.090859",
     "status": "completed"
    },
    "tags": []
   },
   "outputs": [
    {
     "data": {
      "application/javascript": [
       "parent.postMessage({\"jupyterEvent\": \"custom.exercise_interaction\", \"data\": {\"outcomeType\": 1, \"valueTowardsCompletion\": 0.2, \"interactionType\": 1, \"questionType\": 1, \"questionId\": \"2_NumCustomers\", \"learnToolsVersion\": \"0.3.4\", \"failureMessage\": \"\", \"exceptionClass\": \"\", \"trace\": \"\"}}, \"*\")"
      ],
      "text/plain": [
       "<IPython.core.display.Javascript object>"
      ]
     },
     "metadata": {},
     "output_type": "display_data"
    },
    {
     "data": {
      "text/markdown": [
       "<span style=\"color:#33cc33\">Correct</span>"
      ],
      "text/plain": [
       "Correct"
      ]
     },
     "metadata": {},
     "output_type": "display_data"
    }
   ],
   "source": [
    "# Do not change: Number of customers each day for the last month\n",
    "num_customers = [137, 147, 135, 128, 170, 174, 165, 146, 126, 159,\n",
    "                 141, 148, 132, 147, 168, 153, 170, 161, 148, 152,\n",
    "                 141, 151, 131, 149, 164, 163, 143, 143, 166, 171]\n",
    "\n",
    "# TODO: Fill in values for the variables below\n",
    "avg_first_seven = sum(num_customers[:7])/7\n",
    "avg_last_seven = sum(num_customers[-7:])/7\n",
    "max_month = max(num_customers)\n",
    "min_month = min(num_customers)\n",
    "\n",
    "# Do not change: Check your answer\n",
    "q2.check()"
   ]
  },
  {
   "cell_type": "code",
   "execution_count": 5,
   "id": "c2b516c5",
   "metadata": {
    "execution": {
     "iopub.execute_input": "2025-02-26T15:37:00.120076Z",
     "iopub.status.busy": "2025-02-26T15:37:00.119654Z",
     "iopub.status.idle": "2025-02-26T15:37:00.123598Z",
     "shell.execute_reply": "2025-02-26T15:37:00.122538Z"
    },
    "papermill": {
     "duration": 0.012068,
     "end_time": "2025-02-26T15:37:00.125128",
     "exception": false,
     "start_time": "2025-02-26T15:37:00.113060",
     "status": "completed"
    },
    "tags": []
   },
   "outputs": [],
   "source": [
    "# Uncomment to see a hint\n",
    "#q2.hint()\n",
    "\n",
    "# Uncomment to see the solution\n",
    "#q2.solution()"
   ]
  },
  {
   "cell_type": "markdown",
   "id": "383ab00c",
   "metadata": {
    "papermill": {
     "duration": 0.005417,
     "end_time": "2025-02-26T15:37:00.136540",
     "exception": false,
     "start_time": "2025-02-26T15:37:00.131123",
     "status": "completed"
    },
    "tags": []
   },
   "source": [
    "# Question 3\n",
    "\n",
    "In the tutorial, we gave an example of a Python string with information that was better as a list."
   ]
  },
  {
   "cell_type": "code",
   "execution_count": 6,
   "id": "2b0e1539",
   "metadata": {
    "execution": {
     "iopub.execute_input": "2025-02-26T15:37:00.149443Z",
     "iopub.status.busy": "2025-02-26T15:37:00.149038Z",
     "iopub.status.idle": "2025-02-26T15:37:00.153181Z",
     "shell.execute_reply": "2025-02-26T15:37:00.152106Z"
    },
    "papermill": {
     "duration": 0.012571,
     "end_time": "2025-02-26T15:37:00.154933",
     "exception": false,
     "start_time": "2025-02-26T15:37:00.142362",
     "status": "completed"
    },
    "tags": []
   },
   "outputs": [],
   "source": [
    "flowers = \"pink primrose,hard-leaved pocket orchid,canterbury bells,sweet pea,english marigold,tiger lily,moon orchid,bird of paradise,monkshood,globe thistle\""
   ]
  },
  {
   "cell_type": "markdown",
   "id": "ecc4c569",
   "metadata": {
    "papermill": {
     "duration": 0.005406,
     "end_time": "2025-02-26T15:37:00.166462",
     "exception": false,
     "start_time": "2025-02-26T15:37:00.161056",
     "status": "completed"
    },
    "tags": []
   },
   "source": [
    "You can actually use Python to quickly turn this string into a list with `.split()`.  In the parentheses, we need to provide the character should be used to mark the end of one list item and the beginning of another, and enclose it in quotation marks.  In this case, that character is a comma."
   ]
  },
  {
   "cell_type": "code",
   "execution_count": 7,
   "id": "a3db92a3",
   "metadata": {
    "execution": {
     "iopub.execute_input": "2025-02-26T15:37:00.179490Z",
     "iopub.status.busy": "2025-02-26T15:37:00.179146Z",
     "iopub.status.idle": "2025-02-26T15:37:00.184343Z",
     "shell.execute_reply": "2025-02-26T15:37:00.182873Z"
    },
    "papermill": {
     "duration": 0.013686,
     "end_time": "2025-02-26T15:37:00.186000",
     "exception": false,
     "start_time": "2025-02-26T15:37:00.172314",
     "status": "completed"
    },
    "tags": []
   },
   "outputs": [
    {
     "name": "stdout",
     "output_type": "stream",
     "text": [
      "['pink primrose', 'hard-leaved pocket orchid', 'canterbury bells', 'sweet pea', 'english marigold', 'tiger lily', 'moon orchid', 'bird of paradise', 'monkshood', 'globe thistle']\n"
     ]
    }
   ],
   "source": [
    " print(flowers.split(\",\"))"
   ]
  },
  {
   "cell_type": "markdown",
   "id": "b9a57568",
   "metadata": {
    "papermill": {
     "duration": 0.005549,
     "end_time": "2025-02-26T15:37:00.197488",
     "exception": false,
     "start_time": "2025-02-26T15:37:00.191939",
     "status": "completed"
    },
    "tags": []
   },
   "source": [
    "Now it is your turn to try this out!  Create two Python lists:\n",
    "- `letters` should be a Python list where each entry is an uppercase letter of the English alphabet.  For instance, the first two entries should be `\"A\"` and `\"B\"`, and the final two entries should be `\"Y\"` and `\"Z\"`.  Use the string `alphabet` to create this list.\n",
    "- `address` should be a Python list where each row in `address` is a different item in the list.  Currently, each row in `address` is separated by a comma. "
   ]
  },
  {
   "cell_type": "code",
   "execution_count": 8,
   "id": "bbd63f03",
   "metadata": {
    "execution": {
     "iopub.execute_input": "2025-02-26T15:37:00.211181Z",
     "iopub.status.busy": "2025-02-26T15:37:00.210780Z",
     "iopub.status.idle": "2025-02-26T15:37:00.218643Z",
     "shell.execute_reply": "2025-02-26T15:37:00.217440Z"
    },
    "papermill": {
     "duration": 0.017005,
     "end_time": "2025-02-26T15:37:00.220352",
     "exception": false,
     "start_time": "2025-02-26T15:37:00.203347",
     "status": "completed"
    },
    "tags": []
   },
   "outputs": [
    {
     "data": {
      "application/javascript": [
       "parent.postMessage({\"jupyterEvent\": \"custom.exercise_interaction\", \"data\": {\"outcomeType\": 1, \"valueTowardsCompletion\": 0.2, \"interactionType\": 1, \"questionType\": 1, \"questionId\": \"3_SplitString\", \"learnToolsVersion\": \"0.3.4\", \"failureMessage\": \"\", \"exceptionClass\": \"\", \"trace\": \"\"}}, \"*\")"
      ],
      "text/plain": [
       "<IPython.core.display.Javascript object>"
      ]
     },
     "metadata": {},
     "output_type": "display_data"
    },
    {
     "data": {
      "text/markdown": [
       "<span style=\"color:#33cc33\">Correct</span>"
      ],
      "text/plain": [
       "Correct"
      ]
     },
     "metadata": {},
     "output_type": "display_data"
    }
   ],
   "source": [
    "# DO not change: Define two Python strings\n",
    "alphabet = \"A.B.C.D.E.F.G.H.I.J.K.L.M.N.O.P.Q.R.S.T.U.V.W.X.Y.Z\"\n",
    "address = \"Mr. H. Potter,The cupboard under the Stairs,4 Privet Drive,Little Whinging,Surrey\"\n",
    "\n",
    "# TODO: Convert strings into Python lists\n",
    "letters = alphabet.split(\".\")\n",
    "formatted_address = address.split(\",\")\n",
    "\n",
    "# Do not change: Check your answer\n",
    "q3.check()"
   ]
  },
  {
   "cell_type": "code",
   "execution_count": 9,
   "id": "fa15c72b",
   "metadata": {
    "execution": {
     "iopub.execute_input": "2025-02-26T15:37:00.235050Z",
     "iopub.status.busy": "2025-02-26T15:37:00.234622Z",
     "iopub.status.idle": "2025-02-26T15:37:00.238582Z",
     "shell.execute_reply": "2025-02-26T15:37:00.237446Z"
    },
    "papermill": {
     "duration": 0.013595,
     "end_time": "2025-02-26T15:37:00.240278",
     "exception": false,
     "start_time": "2025-02-26T15:37:00.226683",
     "status": "completed"
    },
    "tags": []
   },
   "outputs": [],
   "source": [
    "# Uncomment to see a hint\n",
    "#q3.hint()\n",
    "\n",
    "# Uncomment to see the solution\n",
    "#q3.solution()"
   ]
  },
  {
   "cell_type": "markdown",
   "id": "a0fcd3ef",
   "metadata": {
    "papermill": {
     "duration": 0.00593,
     "end_time": "2025-02-26T15:37:00.252781",
     "exception": false,
     "start_time": "2025-02-26T15:37:00.246851",
     "status": "completed"
    },
    "tags": []
   },
   "source": [
    "# Question 4\n",
    "\n",
    "In the Python course, you'll learn all about **list comprehensions**, which allow you to create a list based on the values in another list.  In this question, you'll get a brief preview of how they work.\n",
    "\n",
    "Say we're working with the list below."
   ]
  },
  {
   "cell_type": "code",
   "execution_count": 10,
   "id": "d215d2c0",
   "metadata": {
    "execution": {
     "iopub.execute_input": "2025-02-26T15:37:00.266503Z",
     "iopub.status.busy": "2025-02-26T15:37:00.266112Z",
     "iopub.status.idle": "2025-02-26T15:37:00.270440Z",
     "shell.execute_reply": "2025-02-26T15:37:00.269462Z"
    },
    "papermill": {
     "duration": 0.01321,
     "end_time": "2025-02-26T15:37:00.272124",
     "exception": false,
     "start_time": "2025-02-26T15:37:00.258914",
     "status": "completed"
    },
    "tags": []
   },
   "outputs": [],
   "source": [
    "test_ratings = [1, 2, 3, 4, 5]"
   ]
  },
  {
   "cell_type": "markdown",
   "id": "61e92436",
   "metadata": {
    "papermill": {
     "duration": 0.00597,
     "end_time": "2025-02-26T15:37:00.284276",
     "exception": false,
     "start_time": "2025-02-26T15:37:00.278306",
     "status": "completed"
    },
    "tags": []
   },
   "source": [
    "Then we can use this list (`test_ratings`) to create a new list (`test_liked`) where each item has been turned into a boolean, depending on whether or not the item is greater than or equal to four."
   ]
  },
  {
   "cell_type": "code",
   "execution_count": 11,
   "id": "bb0b5268",
   "metadata": {
    "execution": {
     "iopub.execute_input": "2025-02-26T15:37:00.297292Z",
     "iopub.status.busy": "2025-02-26T15:37:00.296890Z",
     "iopub.status.idle": "2025-02-26T15:37:00.302237Z",
     "shell.execute_reply": "2025-02-26T15:37:00.301015Z"
    },
    "papermill": {
     "duration": 0.013643,
     "end_time": "2025-02-26T15:37:00.303857",
     "exception": false,
     "start_time": "2025-02-26T15:37:00.290214",
     "status": "completed"
    },
    "tags": []
   },
   "outputs": [
    {
     "name": "stdout",
     "output_type": "stream",
     "text": [
      "[False, False, False, True, True]\n"
     ]
    }
   ],
   "source": [
    "test_liked = [i>=4 for i in test_ratings]\n",
    "print(test_liked)"
   ]
  },
  {
   "cell_type": "markdown",
   "id": "717b5d5a",
   "metadata": {
    "papermill": {
     "duration": 0.00572,
     "end_time": "2025-02-26T15:37:00.315634",
     "exception": false,
     "start_time": "2025-02-26T15:37:00.309914",
     "status": "completed"
    },
    "tags": []
   },
   "source": [
    "In this question, you'll use this list comprehension to define a function `percentage_liked()` that takes one argument as input:\n",
    "- `ratings`: list of ratings that people gave to a movie, where each rating is a number between 1-5, inclusive\n",
    "\n",
    "We say someone liked the movie, if they gave a rating of either 4 or 5.  Your function should return the percentage of people who liked the movie.\n",
    "\n",
    "For instance, if we supply a value of `[1, 2, 3, 4, 5, 4, 5, 1]`, then 50% (4/8) of the people liked the movie, and the function should return `0.5`.\n",
    "\n",
    "Part of the function has already been completed for you.  You need only use `list_liked` to calculate `percentage_liked`."
   ]
  },
  {
   "cell_type": "code",
   "execution_count": 12,
   "id": "8d3094b1",
   "metadata": {
    "execution": {
     "iopub.execute_input": "2025-02-26T15:37:00.328622Z",
     "iopub.status.busy": "2025-02-26T15:37:00.328193Z",
     "iopub.status.idle": "2025-02-26T15:37:00.336437Z",
     "shell.execute_reply": "2025-02-26T15:37:00.335483Z"
    },
    "papermill": {
     "duration": 0.016585,
     "end_time": "2025-02-26T15:37:00.338029",
     "exception": false,
     "start_time": "2025-02-26T15:37:00.321444",
     "status": "completed"
    },
    "tags": []
   },
   "outputs": [
    {
     "data": {
      "application/javascript": [
       "parent.postMessage({\"jupyterEvent\": \"custom.exercise_interaction\", \"data\": {\"outcomeType\": 1, \"valueTowardsCompletion\": 0.2, \"interactionType\": 1, \"questionType\": 2, \"questionId\": \"4_PercentageLiked\", \"learnToolsVersion\": \"0.3.4\", \"failureMessage\": \"\", \"exceptionClass\": \"\", \"trace\": \"\"}}, \"*\")"
      ],
      "text/plain": [
       "<IPython.core.display.Javascript object>"
      ]
     },
     "metadata": {},
     "output_type": "display_data"
    },
    {
     "data": {
      "text/markdown": [
       "<span style=\"color:#33cc33\">Correct</span>"
      ],
      "text/plain": [
       "Correct"
      ]
     },
     "metadata": {},
     "output_type": "display_data"
    }
   ],
   "source": [
    "\n",
    "def percentage_liked(ratings):\n",
    "    list_liked = [i>=4 for i in ratings]\n",
    "    # TODO: Complete the function\n",
    "    percentage_liked = sum(list_liked)/len(list_liked)\n",
    "    return percentage_liked\n",
    "\n",
    "# Do not change: should return 0.5\n",
    "percentage_liked([1, 2, 3, 4, 5, 4, 5, 1])\n",
    "\n",
    "# Do not change: Check your answer\n",
    "q4.check()"
   ]
  },
  {
   "cell_type": "code",
   "execution_count": 13,
   "id": "855e2e5b",
   "metadata": {
    "execution": {
     "iopub.execute_input": "2025-02-26T15:37:00.352169Z",
     "iopub.status.busy": "2025-02-26T15:37:00.351793Z",
     "iopub.status.idle": "2025-02-26T15:37:00.355630Z",
     "shell.execute_reply": "2025-02-26T15:37:00.354641Z"
    },
    "papermill": {
     "duration": 0.0128,
     "end_time": "2025-02-26T15:37:00.357251",
     "exception": false,
     "start_time": "2025-02-26T15:37:00.344451",
     "status": "completed"
    },
    "tags": []
   },
   "outputs": [],
   "source": [
    "# Uncomment to see a hint\n",
    "#q4.hint()\n",
    "\n",
    "# Uncomment to see the solution\n",
    "#q4.solution()"
   ]
  },
  {
   "cell_type": "markdown",
   "id": "fe64d40c",
   "metadata": {
    "papermill": {
     "duration": 0.005814,
     "end_time": "2025-02-26T15:37:00.369506",
     "exception": false,
     "start_time": "2025-02-26T15:37:00.363692",
     "status": "completed"
    },
    "tags": []
   },
   "source": [
    "# 🌶️ Question 5\n",
    " \n",
    "Say you're doing analytics for a website.  You need to write a function that returns the percentage growth in the total number of users relative to a specified number of years ago.\n",
    "\n",
    "Your function `percentage_growth()` should take two arguments as input:\n",
    "- `num_users` = Python list with the total number of users each year.  So `num_users[0]` is the total number of users in the first year, `num_users[1]` is the total number of users in the second year, and so on.  The final entry in the list gives the total number of users in the most recently completed year.\n",
    "- `yrs_ago` = number of years to go back in time when calculating the growth percentage\n",
    "\n",
    "For instance, say `num_users = [920344, 1043553, 1204334, 1458996, 1503323, 1593432, 1623463, 1843064, 1930992, 2001078]`.\n",
    "- if `yrs_ago = 1`, we want the function to return a value of about `0.036`. This corresponds to a percentage growth of approximately 3.6%, calculated as (2001078 - 1930992)/1930992.\n",
    "- if `years_ago = 7`, we would want to return approximately `0.66`.  This corresponds to a percentage growth of approximately 66%, calculated as (2001078 - 1204334)/1204334.\n",
    "\n",
    "Your coworker sent you a draft of a function, but it doesn't seem to be doing the correct calculation.  Can you figure out what has gone wrong and make the needed changes?"
   ]
  },
  {
   "cell_type": "code",
   "execution_count": 14,
   "id": "2d504925",
   "metadata": {
    "execution": {
     "iopub.execute_input": "2025-02-26T15:37:00.383124Z",
     "iopub.status.busy": "2025-02-26T15:37:00.382733Z",
     "iopub.status.idle": "2025-02-26T15:37:00.392725Z",
     "shell.execute_reply": "2025-02-26T15:37:00.391752Z"
    },
    "papermill": {
     "duration": 0.018961,
     "end_time": "2025-02-26T15:37:00.394558",
     "exception": false,
     "start_time": "2025-02-26T15:37:00.375597",
     "status": "completed"
    },
    "tags": []
   },
   "outputs": [
    {
     "name": "stdout",
     "output_type": "stream",
     "text": [
      "0.03629533421163837\n",
      "0.6615639847417742\n"
     ]
    },
    {
     "data": {
      "application/javascript": [
       "parent.postMessage({\"jupyterEvent\": \"custom.exercise_interaction\", \"data\": {\"outcomeType\": 1, \"valueTowardsCompletion\": 0.2, \"interactionType\": 1, \"questionType\": 2, \"questionId\": \"5_WebsiteAnalytics\", \"learnToolsVersion\": \"0.3.4\", \"failureMessage\": \"\", \"exceptionClass\": \"\", \"trace\": \"\"}}, \"*\")"
      ],
      "text/plain": [
       "<IPython.core.display.Javascript object>"
      ]
     },
     "metadata": {},
     "output_type": "display_data"
    },
    {
     "data": {
      "text/markdown": [
       "<span style=\"color:#33cc33\">Correct</span>"
      ],
      "text/plain": [
       "Correct"
      ]
     },
     "metadata": {},
     "output_type": "display_data"
    }
   ],
   "source": [
    "# TODO: Edit the function\n",
    "def percentage_growth(num_users, yrs_ago):\n",
    "    growth = (num_users[len(num_users)-1] - num_users[len(num_users)-yrs_ago-1])/num_users[len(num_users)-yrs_ago-1]\n",
    "    return growth\n",
    "\n",
    "# Do not change: Variable for calculating some test examples\n",
    "num_users_test = [920344, 1043553, 1204334, 1458996, 1503323, 1593432, 1623463, 1843064, 1930992, 2001078]\n",
    "\n",
    "# Do not change: Should return .036\n",
    "print(percentage_growth(num_users_test, 1))\n",
    "\n",
    "# Do not change: Should return 0.66\n",
    "print(percentage_growth(num_users_test, 7))\n",
    "\n",
    "# Do not change: Check your answer\n",
    "q5.check()"
   ]
  },
  {
   "cell_type": "code",
   "execution_count": 15,
   "id": "1bae7237",
   "metadata": {
    "execution": {
     "iopub.execute_input": "2025-02-26T15:37:00.409220Z",
     "iopub.status.busy": "2025-02-26T15:37:00.408762Z",
     "iopub.status.idle": "2025-02-26T15:37:00.412685Z",
     "shell.execute_reply": "2025-02-26T15:37:00.411561Z"
    },
    "papermill": {
     "duration": 0.013351,
     "end_time": "2025-02-26T15:37:00.414527",
     "exception": false,
     "start_time": "2025-02-26T15:37:00.401176",
     "status": "completed"
    },
    "tags": []
   },
   "outputs": [],
   "source": [
    "# Uncomment to see a hint\n",
    "#q5.hint()\n",
    "\n",
    "# Uncomment to see the solution\n",
    "#q5.solution()"
   ]
  },
  {
   "cell_type": "markdown",
   "id": "3351d438",
   "metadata": {
    "papermill": {
     "duration": 0.006297,
     "end_time": "2025-02-26T15:37:00.427876",
     "exception": false,
     "start_time": "2025-02-26T15:37:00.421579",
     "status": "completed"
    },
    "tags": []
   },
   "source": [
    "# Congratulations!\n",
    "\n",
    "Congratulations for finishing the Intro to Programming course!  You should be proud of your very first steps with learning programming.  As next steps, we recommend taking:\n",
    "- the **[Python course](http://www.kaggle.com/learn/python)**, and \n",
    "- the **[Intro to Machine Learning course](https://www.kaggle.com/learn/intro-to-machine-learning)**."
   ]
  },
  {
   "cell_type": "markdown",
   "id": "f38b48fc",
   "metadata": {
    "papermill": {
     "duration": 0.006417,
     "end_time": "2025-02-26T15:37:00.441217",
     "exception": false,
     "start_time": "2025-02-26T15:37:00.434800",
     "status": "completed"
    },
    "tags": []
   },
   "source": [
    "---\n",
    "\n",
    "\n",
    "\n",
    "\n",
    "*Have questions or comments? Visit the [course discussion forum](https://www.kaggle.com/learn/intro-to-programming/discussion) to chat with other learners.*"
   ]
  }
 ],
 "metadata": {
  "kaggle": {
   "accelerator": "none",
   "dataSources": [],
   "isGpuEnabled": false,
   "isInternetEnabled": false,
   "language": "python",
   "sourceType": "notebook"
  },
  "kernelspec": {
   "display_name": "Python 3",
   "language": "python",
   "name": "python3"
  },
  "language_info": {
   "codemirror_mode": {
    "name": "ipython",
    "version": 3
   },
   "file_extension": ".py",
   "mimetype": "text/x-python",
   "name": "python",
   "nbconvert_exporter": "python",
   "pygments_lexer": "ipython3",
   "version": "3.10.12"
  },
  "papermill": {
   "default_parameters": {},
   "duration": 5.079411,
   "end_time": "2025-02-26T15:37:01.067902",
   "environment_variables": {},
   "exception": null,
   "input_path": "__notebook__.ipynb",
   "output_path": "__notebook__.ipynb",
   "parameters": {},
   "start_time": "2025-02-26T15:36:55.988491",
   "version": "2.6.0"
  }
 },
 "nbformat": 4,
 "nbformat_minor": 5
}
